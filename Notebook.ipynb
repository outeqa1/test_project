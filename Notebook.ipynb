{
 "cells": [
  {
   "cell_type": "code",
   "execution_count": null,
   "id": "3d55148c",
   "metadata": {},
   "outputs": [],
   "source": [
    "import pandas as pd\n",
    "import matplotlib.pyplot as plt\n",
    "\n",
    "import json\n",
    "\n",
    "\n",
    "class Drawing_plots:\n",
    "    def __init__(self):\n",
    "        pass\n",
    "    def draw_plots(self):\n",
    "        json_string = open(\"plots.json\", \"r\")\n",
    "        df = pd.read_json(json_string)\n",
    "        inp = int(input('choose 1-1347: '))-1\n",
    "        df_by_row = df.iloc[inp]\n",
    "\n",
    "        df_json = df_by_row.to_json()\n",
    "        df_dict = json.loads(df_json)\n",
    "\n",
    "        xAxis = []\n",
    "        yAxis = []\n",
    "        for i in df_dict:\n",
    "            if i == 'name':\n",
    "                xAxis.append(str(0))\n",
    "                yAxis.append(str(0))\n",
    "                continue\n",
    "            xAxis.append(str(i))\n",
    "            yAxis.append(str(df_dict[i]))\n",
    "\n",
    "        fig = plt.figure(figsize=(15, 5))\n",
    "        yAxis2 = [float(k) for k in yAxis]\n",
    "        plt.bar(xAxis, yAxis2, width=0.3)\n",
    "        plt.title(str(df_dict['name']))\n",
    "        plt.savefig('plots/plot_{}.png'.format(df_dict['name']))\n",
    "        plt.show()\n",
    "\n",
    "\n",
    "if __name__ == '__main__':\n",
    "    Plot_object = Drawing_plots()\n",
    "    Plot_object.draw_plots()"
   ]
  }
 ],
 "metadata": {
  "kernelspec": {
   "display_name": "Python 3 (ipykernel)",
   "language": "python",
   "name": "python3"
  },
  "language_info": {
   "codemirror_mode": {
    "name": "ipython",
    "version": 3
   },
   "file_extension": ".py",
   "mimetype": "text/x-python",
   "name": "python",
   "nbconvert_exporter": "python",
   "pygments_lexer": "ipython3",
   "version": "3.8.10"
  }
 },
 "nbformat": 4,
 "nbformat_minor": 5
}
